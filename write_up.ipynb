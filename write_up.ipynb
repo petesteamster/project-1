{
 "cells": [
  {
   "cell_type": "markdown",
   "metadata": {},
   "source": [
    "### Read in the main data file"
   ]
  },
  {
   "cell_type": "code",
   "execution_count": 2,
   "metadata": {},
   "outputs": [
    {
     "data": {
      "text/html": [
       "<div>\n",
       "<style scoped>\n",
       "    .dataframe tbody tr th:only-of-type {\n",
       "        vertical-align: middle;\n",
       "    }\n",
       "\n",
       "    .dataframe tbody tr th {\n",
       "        vertical-align: top;\n",
       "    }\n",
       "\n",
       "    .dataframe thead th {\n",
       "        text-align: right;\n",
       "    }\n",
       "</style>\n",
       "<table border=\"1\" class=\"dataframe\">\n",
       "  <thead>\n",
       "    <tr style=\"text-align: right;\">\n",
       "      <th></th>\n",
       "      <th>State</th>\n",
       "      <th>SAT_P</th>\n",
       "      <th>SAT_RW</th>\n",
       "      <th>SAT_M</th>\n",
       "      <th>SAT_T</th>\n",
       "      <th>ACT_P</th>\n",
       "      <th>ACT_E</th>\n",
       "      <th>ACT_M</th>\n",
       "      <th>ACT_R</th>\n",
       "      <th>ACT_S</th>\n",
       "      <th>ACT_C</th>\n",
       "    </tr>\n",
       "  </thead>\n",
       "  <tbody>\n",
       "    <tr>\n",
       "      <th>0</th>\n",
       "      <td>Oregon</td>\n",
       "      <td>43</td>\n",
       "      <td>560</td>\n",
       "      <td>548</td>\n",
       "      <td>1108</td>\n",
       "      <td>40</td>\n",
       "      <td>21.2</td>\n",
       "      <td>21.5</td>\n",
       "      <td>22.4</td>\n",
       "      <td>21.7</td>\n",
       "      <td>21.8</td>\n",
       "    </tr>\n",
       "    <tr>\n",
       "      <th>1</th>\n",
       "      <td>California</td>\n",
       "      <td>53</td>\n",
       "      <td>531</td>\n",
       "      <td>524</td>\n",
       "      <td>1055</td>\n",
       "      <td>31</td>\n",
       "      <td>22.5</td>\n",
       "      <td>22.7</td>\n",
       "      <td>23.1</td>\n",
       "      <td>22.2</td>\n",
       "      <td>22.8</td>\n",
       "    </tr>\n",
       "    <tr>\n",
       "      <th>2</th>\n",
       "      <td>Vermont</td>\n",
       "      <td>60</td>\n",
       "      <td>562</td>\n",
       "      <td>551</td>\n",
       "      <td>1114</td>\n",
       "      <td>29</td>\n",
       "      <td>23.3</td>\n",
       "      <td>23.1</td>\n",
       "      <td>24.4</td>\n",
       "      <td>23.2</td>\n",
       "      <td>23.6</td>\n",
       "    </tr>\n",
       "    <tr>\n",
       "      <th>3</th>\n",
       "      <td>Georgia</td>\n",
       "      <td>61</td>\n",
       "      <td>535</td>\n",
       "      <td>515</td>\n",
       "      <td>1050</td>\n",
       "      <td>55</td>\n",
       "      <td>21.0</td>\n",
       "      <td>20.9</td>\n",
       "      <td>22.0</td>\n",
       "      <td>21.3</td>\n",
       "      <td>21.4</td>\n",
       "    </tr>\n",
       "    <tr>\n",
       "      <th>4</th>\n",
       "      <td>Arizona</td>\n",
       "      <td>30</td>\n",
       "      <td>563</td>\n",
       "      <td>553</td>\n",
       "      <td>1116</td>\n",
       "      <td>62</td>\n",
       "      <td>18.6</td>\n",
       "      <td>19.8</td>\n",
       "      <td>20.1</td>\n",
       "      <td>19.8</td>\n",
       "      <td>19.7</td>\n",
       "    </tr>\n",
       "  </tbody>\n",
       "</table>\n",
       "</div>"
      ],
      "text/plain": [
       "        State  SAT_P  SAT_RW  SAT_M  SAT_T  ACT_P  ACT_E  ACT_M  ACT_R  ACT_S  \\\n",
       "0      Oregon     43     560    548   1108     40   21.2   21.5   22.4   21.7   \n",
       "1  California     53     531    524   1055     31   22.5   22.7   23.1   22.2   \n",
       "2     Vermont     60     562    551   1114     29   23.3   23.1   24.4   23.2   \n",
       "3     Georgia     61     535    515   1050     55   21.0   20.9   22.0   21.3   \n",
       "4     Arizona     30     563    553   1116     62   18.6   19.8   20.1   19.8   \n",
       "\n",
       "   ACT_C  \n",
       "0   21.8  \n",
       "1   22.8  \n",
       "2   23.6  \n",
       "3   21.4  \n",
       "4   19.7  "
      ]
     },
     "execution_count": 2,
     "metadata": {},
     "output_type": "execute_result"
    }
   ],
   "source": [
    "import pandas as pd\n",
    "df_sat_act=pd.read_csv('act_sat_merged.csv')\n",
    "df_sat_act.head()"
   ]
  },
  {
   "cell_type": "code",
   "execution_count": 9,
   "metadata": {},
   "outputs": [
    {
     "data": {
      "text/plain": [
       "(array([0.5, 1.5, 2.5, 3.5, 4.5, 5.5, 6.5, 7.5, 8.5, 9.5]),\n",
       " <a list of 10 Text yticklabel objects>)"
      ]
     },
     "execution_count": 9,
     "metadata": {},
     "output_type": "execute_result"
    },
    {
     "data": {
      "image/png": "[encoded data removed]",
      "text/plain": [
       "<matplotlib.figure.Figure at 0x1a15ff78d0>"
      ]
     },
     "metadata": {},
     "output_type": "display_data"
    }
   ],
   "source": [
    "import seaborn as sns\n",
    "import numpy as np\n",
    "import matplotlib.pyplot as pl\n",
    "f, ax = pl.subplots(figsize=(12, 12))\n",
    "corr = df_sat_act[['SAT_P','SAT_RW','SAT_M','SAT_T','ACT_P','ACT_E',\"ACT_M\",\"ACT_R\",\"ACT_S\",\"ACT_C\"]].corr()\n",
    "\n",
    "sns.heatmap(corr, mask=np.zeros_like(corr, dtype=np.bool), cmap=sns.diverging_palette(220, 10, as_cmap=True),\n",
    "            square=True, ax=ax)\n",
    "pl.yticks(rotation=0)"
   ]
  },
  {
   "cell_type": "markdown",
   "metadata": {},
   "source": [
    "#### In the heatmap above, there are some interesting correlations. \n",
    "#### - SAT_M and ACT_M (SAT and ACT math) are negatively correlated \n",
    "#### - SAT_RW and ACT_R (SAT reading and writing; ACT reading) are negatively correlated\n",
    "#### The SAT_M and the ACT_M should be measuring similar skill sets. We also should expect SAT_RW to be measuring the same skills that ACT_R measures. The negative correlations imply the opposite. Based on the correlations, we might conclude that the ability to do the math on the SAT hinders ones ability to do the math on the ACT. That seems a bit absurd. What is wrong?  \n"
   ]
  },
  {
   "cell_type": "code",
   "execution_count": 17,
   "metadata": {},
   "outputs": [
    {
     "name": "stdout",
     "output_type": "stream",
     "text": [
      "    SAT_M  ACT_M\n",
      "0     548   21.5\n",
      "1     524   22.7\n",
      "2     551   23.1\n",
      "3     515   20.9\n",
      "4     553   19.8\n",
      "5     507   20.7\n",
      "6     532   22.4\n",
      "7     534   21.9\n",
      "8     533   19.8\n",
      "9     531   23.4\n",
      "10    541   23.3\n",
      "11    561   19.4\n",
      "12    635   21.3\n",
      "13    523   24.0\n",
      "14    520   23.1\n",
      "15    528   19.4\n",
      "16    526   23.8\n",
      "17    524   23.3\n",
      "18    628   21.3\n",
      "19    570   21.6\n"
     ]
    }
   ],
   "source": [
    "print(df_sat_act[['SAT_M','ACT_M']].head(20))"
   ]
  },
  {
   "cell_type": "code",
   "execution_count": 21,
   "metadata": {},
   "outputs": [
    {
     "name": "stdout",
     "output_type": "stream",
     "text": [
      "-0.84\n"
     ]
    },
    {
     "data": {
      "image/png": "[encoded data removed]",
      "text/plain": [
       "<matplotlib.figure.Figure at 0x11a47dda0>"
      ]
     },
     "metadata": {},
     "output_type": "display_data"
    }
   ],
   "source": [
    "import matplotlib.pyplot as plt\n",
    "import numpy as np\n",
    "def t_normalize(tDf,t_column):\n",
    "    tr=tDf[t_column]-tDf[t_column].mean()\n",
    "    tr=tr/tr.std()\n",
    "    return tr\n",
    "\n",
    "plt.scatter(df_sat_act['SAT_P'],df_sat_act['ACT_P'])\n",
    "print(np.around(np.corrcoef(df_sat_act['SAT_P'],df_sat_act['ACT_P'])[0,1],2))\n",
    "plt.show()"
   ]
  },
  {
   "cell_type": "markdown",
   "metadata": {},
   "source": [
    "#### Above we have a scatter plot and the numeric correlation for the SAT/ACT participation rates. The are negatively correlated. States usually have a single required test. For any given state, they require the SAT or the ACT, but never both. In states that require the SAT, highly motivated students will take both tests. There are a smaller number of these type of students compared to the overall student population. In states that require the SAT, the ACT participation rate will be smaller than the rate for the SAT. This is flipped in states that require the ACT. This is where the negative correlation comes from.  "
   ]
  },
  {
   "cell_type": "code",
   "execution_count": 22,
   "metadata": {},
   "outputs": [
    {
     "name": "stdout",
     "output_type": "stream",
     "text": [
      "-0.45\n"
     ]
    },
    {
     "data": {
      "image/png": "[encoded data removed]",
      "text/plain": [
       "<matplotlib.figure.Figure at 0x11ac3a668>"
      ]
     },
     "metadata": {},
     "output_type": "display_data"
    }
   ],
   "source": [
    "import matplotlib.pyplot as plt\n",
    "import numpy as np\n",
    "def t_normalize(tDf,t_column):\n",
    "    tr=tDf[t_column]-tDf[t_column].mean()\n",
    "    tr=tr/tr.std()\n",
    "    return tr\n",
    "\n",
    "t_norm_sat_m=t_normalize(df_sat_act,'SAT_T')\n",
    "t_norm_act_m=t_normalize(df_sat_act,'ACT_C')\n",
    "plt.scatter(t_norm_sat_m,t_norm_act_m)\n",
    "print(np.around(np.corrcoef(t_norm_sat_m,t_norm_act_m)[0,1],2))\n",
    "plt.show()"
   ]
  },
  {
   "cell_type": "markdown",
   "metadata": {},
   "source": [
    "#### Above we have a scatter plot and the numeric correlation for the SAT/ACT aggregate scores. The are negatively correlated. This is directly related to the negative correlation with the participation rates.  In states that require the SAT, the students who also take the ACT are the most motivated and therefore better students. These students excel on the ACT. When the SAT is required, a larger portion of students take the test. This brings in a wider range of student ability/knowledge which leads to a lower average score. When the participation rate is high (i.e. the test is required), the average score drops. When the participation rate is low (i.e. the test is not required) the average score goes up. "
   ]
  },
  {
   "cell_type": "markdown",
   "metadata": {},
   "source": [
    "#### Is there a way to 'fix' the data? Suppose we create a feature made of only of scores tied to a high participation rate. This means will will have ACT and SAT scores in the same feature. To enable this, we need to adjust the scores such that they are on the same scale. A simple way to do this is normalize. After the nomalization, we perform the following steps using the aggregate data from the SAT and the ACT.\n",
    "#### - For each state, we choose the score from the test with the highest participation rate\n",
    "#### - We build a single feature from those scores. Each state will have a single entry\n",
    "#### - We repeat this process for the math score. (we could have chosen other. We chose math because we assumed math would be the most alike across the set of tests.\n",
    "#### We get the correlation between the feature built from the aggregates and the math scores. We should get a positive correlation. The code for these steps is below. "
   ]
  },
  {
   "cell_type": "code",
   "execution_count": 26,
   "metadata": {},
   "outputs": [
    {
     "name": "stdout",
     "output_type": "stream",
     "text": [
      "0   -0.186601\n",
      "1   -0.695285\n",
      "2   -0.123015\n",
      "3   -0.886042\n",
      "4   -0.697457\n",
      "Name: HI_P_M, dtype: float64   0   -0.195665\n",
      "1   -0.768671\n",
      "2   -0.130797\n",
      "3   -0.822728\n",
      "4   -0.900486\n",
      "Name: HI_P_T, dtype: float64\n",
      "0.9690325018978715\n"
     ]
    },
    {
     "data": {
      "image/png": "[encoded data removed]",
      "text/plain": [
       "<matplotlib.figure.Figure at 0x11a356518>"
      ]
     },
     "metadata": {},
     "output_type": "display_data"
    }
   ],
   "source": [
    "import pandas as pd\n",
    "import numpy as np\n",
    "import seaborn as sns\n",
    "import matplotlib.pyplot as plt\n",
    "tFile=\"act_sat_merged.csv\"\n",
    "df_SAT=pd.read_csv(tFile)\n",
    "tColList=['SAT_RW','SAT_M','SAT_T','ACT_E','ACT_M','ACT_R','ACT_S','ACT_C']\n",
    "   \n",
    "for i in range(0,8):\n",
    "    df_SAT[tColList[i]]=(df_SAT[tColList[i]]-(df_SAT[tColList[i]].mean()))/df_SAT[tColList[i]].std()\n",
    "t_switch=list()\n",
    "for i in range(0,len(df_SAT)):\n",
    "    t_switch.append(0) \n",
    "    if(df_SAT.loc[i,'SAT_P']>df_SAT.loc[i,'ACT_P']):\n",
    "        t_switch[i]=1\n",
    "t_switch=pd.Series(t_switch)\n",
    "df_SAT['t_switch']=t_switch\n",
    "com_sc=list()\n",
    "for i in range(0,len(df_SAT)):\n",
    "    com_sc.append(df_SAT.loc[i,'ACT_C']) \n",
    "    if(df_SAT.loc[i,'t_switch']==1):\n",
    "        com_sc[i]=df_SAT.loc[i,'SAT_T']\n",
    "com_sc=pd.Series(com_sc)\n",
    "df_SAT['HI_P_T']=com_sc\n",
    "com_sc=list()\n",
    "for i in range(0,len(df_SAT)):\n",
    "    com_sc.append(df_SAT.loc[i,'ACT_M']) \n",
    "    if(df_SAT.loc[i,'t_switch']==1):\n",
    "        com_sc[i]=df_SAT.loc[i,'SAT_M']\n",
    "\n",
    "com_sc=pd.Series(com_sc)\n",
    "df_SAT['HI_P_M']=com_sc\n",
    "\n",
    "df_SAT.to_csv(\"act_sat_merged_HI_P_M.csv\",index=False)\n",
    "print(df_SAT[\"HI_P_M\"].head(),' ',df_SAT[\"HI_P_T\"].head())\n",
    "print(df_SAT[\"HI_P_M\"].corr(df_SAT['HI_P_T']))            \n",
    "#print(df_SAT)\n",
    "f, ax = plt.subplots(figsize=(6, 6))\n",
    "cbar_kws = { 'ticks' : [-1, 1] } \n",
    "corr = df_SAT[['HI_P_M','HI_P_T']].corr()\n",
    "sns.heatmap(corr, cmap=sns.diverging_palette(220, 8, as_cmap=True),\n",
    "            square=True, ax=ax,center=0,annot=True,annot_kws={\"size\":40})\n",
    "plt.yticks(rotation=0)\n",
    "plt.xticks(rotation=90)                          \n",
    "plt.show()                "
   ]
  },
  {
   "cell_type": "markdown",
   "metadata": {},
   "source": [
    "#### - The heatmap above confirms out assumption. "
   ]
  },
  {
   "cell_type": "code",
   "execution_count": null,
   "metadata": {},
   "outputs": [],
   "source": []
  }
 ],
 "metadata": {
  "kernelspec": {
   "display_name": "Python [conda env:anaconda3]",
   "language": "python",
   "name": "conda-env-anaconda3-py"
  },
  "language_info": {
   "codemirror_mode": {
    "name": "ipython",
    "version": 3
   },
   "file_extension": ".py",
   "mimetype": "text/x-python",
   "name": "python",
   "nbconvert_exporter": "python",
   "pygments_lexer": "ipython3",
   "version": "3.6.4"
  }
 },
 "nbformat": 4,
 "nbformat_minor": 2
}
